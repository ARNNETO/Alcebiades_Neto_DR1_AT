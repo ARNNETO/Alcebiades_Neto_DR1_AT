{
 "cells": [
  {
   "cell_type": "markdown",
   "metadata": {},
   "source": [
    "### 1) Preparar o ambiente de desenvolvimento:\n",
    "- Crie um ambiente virtual para seu projeto utilizando uma ferramenta como venv, virtualenv ou pipenv.\n",
    "- Instale as bibliotecas necessárias (Streamlit, statsbombpy, mplsoccer, matplotlib, entre outras)."
   ]
  },
  {
   "cell_type": "markdown",
   "metadata": {},
   "source": [
    "### 2) Estruturar o projeto:\n",
    "- Crie um repositório no GitHub para hospedar o código do seu projeto.\n",
    "- Garanta que o repositório contenha um arquivo requirements.txt com as dependências necessárias para rodar o projeto.\n",
    "- Organize o código de forma clara, criando funções separadas para carregar os dados, gerar as visualizações e construir a interface do dashboard."
   ]
  },
  {
   "cell_type": "markdown",
   "metadata": {},
   "source": [
    "### 3) Definir a estrutura do dashboard:\n",
    "#### Desenvolva uma interface interativa em Streamlit que permita ao usuário selecionar:\n",
    "- Um campeonato específico.\n",
    "- Uma temporada (ano).\n",
    "- Uma partida ou jogador para análise."
   ]
  },
  {
   "cell_type": "code",
   "execution_count": 4,
   "metadata": {},
   "outputs": [],
   "source": [
    "from statsbombpy import sb"
   ]
  },
  {
   "cell_type": "markdown",
   "metadata": {},
   "source": [
    "### 4) Obter dados e exibir informações básicas\n",
    "#### Use a biblioteca StatsBombPy para carregar dados de competições, temporadas, partidas e jogadores.\n",
    "#### Mostre, em uma página do dashboard, as seguintes informações:\n",
    "- Nome da competição, temporada e partida selecionada.\n",
    "- Estatísticas básicas da partida (gols, chutes, passes, etc.).\n",
    "- Um DataFrame exibindo os eventos da partida, como passes, finalizações e desarmes."
   ]
  },
  {
   "cell_type": "markdown",
   "metadata": {},
   "source": []
  },
  {
   "cell_type": "code",
   "execution_count": 27,
   "metadata": {},
   "outputs": [
    {
     "name": "stdout",
     "output_type": "stream",
     "text": [
      "Requirement already satisfied: mplsoccer in ./.venv/lib/python3.10/site-packages (1.4.0)\n",
      "Requirement already satisfied: matplotlib>=3.6 in ./.venv/lib/python3.10/site-packages (from mplsoccer) (3.9.2)\n",
      "Requirement already satisfied: numpy in ./.venv/lib/python3.10/site-packages (from mplsoccer) (2.1.1)\n",
      "Requirement already satisfied: pandas in ./.venv/lib/python3.10/site-packages (from mplsoccer) (2.2.3)\n",
      "Requirement already satisfied: pillow in ./.venv/lib/python3.10/site-packages (from mplsoccer) (10.4.0)\n",
      "Requirement already satisfied: requests in ./.venv/lib/python3.10/site-packages (from mplsoccer) (2.32.3)\n",
      "Requirement already satisfied: scipy in ./.venv/lib/python3.10/site-packages (from mplsoccer) (1.14.1)\n",
      "Requirement already satisfied: seaborn in ./.venv/lib/python3.10/site-packages (from mplsoccer) (0.13.2)\n",
      "Requirement already satisfied: contourpy>=1.0.1 in ./.venv/lib/python3.10/site-packages (from matplotlib>=3.6->mplsoccer) (1.3.0)\n",
      "Requirement already satisfied: cycler>=0.10 in ./.venv/lib/python3.10/site-packages (from matplotlib>=3.6->mplsoccer) (0.12.1)\n",
      "Requirement already satisfied: fonttools>=4.22.0 in ./.venv/lib/python3.10/site-packages (from matplotlib>=3.6->mplsoccer) (4.54.1)\n",
      "Requirement already satisfied: kiwisolver>=1.3.1 in ./.venv/lib/python3.10/site-packages (from matplotlib>=3.6->mplsoccer) (1.4.7)\n",
      "Requirement already satisfied: packaging>=20.0 in ./.venv/lib/python3.10/site-packages (from matplotlib>=3.6->mplsoccer) (24.1)\n",
      "Requirement already satisfied: pyparsing>=2.3.1 in ./.venv/lib/python3.10/site-packages (from matplotlib>=3.6->mplsoccer) (3.1.4)\n",
      "Requirement already satisfied: python-dateutil>=2.7 in ./.venv/lib/python3.10/site-packages (from matplotlib>=3.6->mplsoccer) (2.9.0.post0)\n",
      "Requirement already satisfied: pytz>=2020.1 in ./.venv/lib/python3.10/site-packages (from pandas->mplsoccer) (2024.2)\n",
      "Requirement already satisfied: tzdata>=2022.7 in ./.venv/lib/python3.10/site-packages (from pandas->mplsoccer) (2024.2)\n",
      "Requirement already satisfied: charset-normalizer<4,>=2 in ./.venv/lib/python3.10/site-packages (from requests->mplsoccer) (3.3.2)\n",
      "Requirement already satisfied: idna<4,>=2.5 in ./.venv/lib/python3.10/site-packages (from requests->mplsoccer) (3.10)\n",
      "Requirement already satisfied: urllib3<3,>=1.21.1 in ./.venv/lib/python3.10/site-packages (from requests->mplsoccer) (2.2.3)\n",
      "Requirement already satisfied: certifi>=2017.4.17 in ./.venv/lib/python3.10/site-packages (from requests->mplsoccer) (2024.8.30)\n",
      "Requirement already satisfied: six>=1.5 in ./.venv/lib/python3.10/site-packages (from python-dateutil>=2.7->matplotlib>=3.6->mplsoccer) (1.16.0)\n",
      "Note: you may need to restart the kernel to use updated packages.\n"
     ]
    }
   ],
   "source": [
    "pip install mplsoccer --upgrade\n"
   ]
  },
  {
   "cell_type": "code",
   "execution_count": 14,
   "metadata": {},
   "outputs": [],
   "source": [
    "import streamlit as st\n",
    "from statsbombpy import sb\n",
    "import pandas as pd"
   ]
  },
  {
   "cell_type": "code",
   "execution_count": 15,
   "metadata": {},
   "outputs": [
    {
     "name": "stderr",
     "output_type": "stream",
     "text": [
      "2024-10-02 19:34:59.535 WARNING streamlit.runtime.scriptrunner_utils.script_run_context: Thread 'MainThread': missing ScriptRunContext! This warning can be ignored when running in bare mode.\n",
      "2024-10-02 19:34:59.537 WARNING streamlit.runtime.scriptrunner_utils.script_run_context: Thread 'MainThread': missing ScriptRunContext! This warning can be ignored when running in bare mode.\n",
      "2024-10-02 19:34:59.541 WARNING streamlit.runtime.scriptrunner_utils.script_run_context: Thread 'MainThread': missing ScriptRunContext! This warning can be ignored when running in bare mode.\n",
      "2024-10-02 19:34:59.546 WARNING streamlit.runtime.state.session_state_proxy: Session state does not function when running a script without `streamlit run`\n",
      "2024-10-02 19:34:59.549 WARNING streamlit.runtime.scriptrunner_utils.script_run_context: Thread 'MainThread': missing ScriptRunContext! This warning can be ignored when running in bare mode.\n",
      "2024-10-02 19:34:59.898 \n",
      "  \u001b[33m\u001b[1mWarning:\u001b[0m to view this Streamlit app on a browser, run it with the following\n",
      "  command:\n",
      "\n",
      "    streamlit run /home/neto/Documentos/Ciencia de dados/4_SEMESTRE/Desenvolvimento_Front_End_Com_Python/Alcebiades_Neto_DR1_AT/.venv/lib/python3.10/site-packages/ipykernel_launcher.py [ARGUMENTS]\n",
      "2024-10-02 19:34:59.901 Thread 'MainThread': missing ScriptRunContext! This warning can be ignored when running in bare mode.\n"
     ]
    }
   ],
   "source": [
    "# Seleção de Competição\n",
    "competitions = sb.competitions()\n",
    "competition_name = competitions['competition_name'].unique()\n",
    "selected_competition = st.selectbox('Selecione uma competição', competition_name)"
   ]
  },
  {
   "cell_type": "code",
   "execution_count": 16,
   "metadata": {},
   "outputs": [
    {
     "name": "stderr",
     "output_type": "stream",
     "text": [
      "2024-10-02 19:35:13.056 Thread 'MainThread': missing ScriptRunContext! This warning can be ignored when running in bare mode.\n",
      "2024-10-02 19:35:13.061 Thread 'MainThread': missing ScriptRunContext! This warning can be ignored when running in bare mode.\n",
      "2024-10-02 19:35:13.065 Thread 'MainThread': missing ScriptRunContext! This warning can be ignored when running in bare mode.\n",
      "2024-10-02 19:35:13.068 Thread 'MainThread': missing ScriptRunContext! This warning can be ignored when running in bare mode.\n",
      "2024-10-02 19:35:13.069 Thread 'MainThread': missing ScriptRunContext! This warning can be ignored when running in bare mode.\n"
     ]
    }
   ],
   "source": [
    "# Filtrar a competição selecionada e selecionar a temporada\n",
    "competition_filtered = competitions[competitions['competition_name'] == selected_competition]\n",
    "season_name = competition_filtered['season_name'].unique()\n",
    "selected_season = st.selectbox('Selecione uma temporada', season_name)"
   ]
  },
  {
   "cell_type": "code",
   "execution_count": 17,
   "metadata": {},
   "outputs": [],
   "source": [
    "competition_id = competition_filtered[competition_filtered['season_name'] == selected_season]['competition_id'].values[0]\n",
    "season_id = competition_filtered[competition_filtered['season_name'] == selected_season]['season_id'].values[0]"
   ]
  },
  {
   "cell_type": "code",
   "execution_count": 18,
   "metadata": {},
   "outputs": [
    {
     "name": "stderr",
     "output_type": "stream",
     "text": [
      "2024-10-02 19:35:34.868 Thread 'MainThread': missing ScriptRunContext! This warning can be ignored when running in bare mode.\n",
      "2024-10-02 19:35:34.870 Thread 'MainThread': missing ScriptRunContext! This warning can be ignored when running in bare mode.\n",
      "2024-10-02 19:35:34.874 Thread 'MainThread': missing ScriptRunContext! This warning can be ignored when running in bare mode.\n",
      "2024-10-02 19:35:34.876 Thread 'MainThread': missing ScriptRunContext! This warning can be ignored when running in bare mode.\n",
      "2024-10-02 19:35:34.877 Thread 'MainThread': missing ScriptRunContext! This warning can be ignored when running in bare mode.\n"
     ]
    }
   ],
   "source": [
    "matches = sb.matches(competition_id=competition_id, season_id=season_id)\n",
    "matches['match_info'] = matches['home_team'] + \" vs \" + matches['away_team']\n",
    "selected_match = st.selectbox('Selecione uma partida', matches['match_info'])"
   ]
  },
  {
   "cell_type": "code",
   "execution_count": 19,
   "metadata": {},
   "outputs": [],
   "source": [
    "match_data = matches[matches['match_info'] == selected_match]"
   ]
  },
  {
   "cell_type": "code",
   "execution_count": 20,
   "metadata": {},
   "outputs": [
    {
     "name": "stderr",
     "output_type": "stream",
     "text": [
      "2024-10-02 19:35:57.938 Thread 'MainThread': missing ScriptRunContext! This warning can be ignored when running in bare mode.\n",
      "2024-10-02 19:35:57.942 Thread 'MainThread': missing ScriptRunContext! This warning can be ignored when running in bare mode.\n",
      "2024-10-02 19:35:57.945 Thread 'MainThread': missing ScriptRunContext! This warning can be ignored when running in bare mode.\n"
     ]
    }
   ],
   "source": [
    "tabs = st.tabs([\"Detalhes da Partida\", \"Análise de Jogador\"])"
   ]
  },
  {
   "cell_type": "code",
   "execution_count": 25,
   "metadata": {},
   "outputs": [
    {
     "name": "stderr",
     "output_type": "stream",
     "text": [
      "2024-10-02 19:41:49.161 Thread 'MainThread': missing ScriptRunContext! This warning can be ignored when running in bare mode.\n",
      "2024-10-02 19:41:49.163 Thread 'MainThread': missing ScriptRunContext! This warning can be ignored when running in bare mode.\n",
      "/home/neto/Documentos/Ciencia de dados/4_SEMESTRE/Desenvolvimento_Front_End_Com_Python/Alcebiades_Neto_DR1_AT/.venv/lib/python3.10/site-packages/statsbombpy/api_client.py:21: NoAuthWarning: credentials were not supplied. open data access only\n",
      "  warnings.warn(\n",
      "2024-10-02 19:41:49.681 Thread 'MainThread': missing ScriptRunContext! This warning can be ignored when running in bare mode.\n",
      "2024-10-02 19:41:49.683 Thread 'MainThread': missing ScriptRunContext! This warning can be ignored when running in bare mode.\n"
     ]
    }
   ],
   "source": [
    "st.subheader('Estatísticas da Partida')\n",
    "events = sb.events(match_id=match_data['match_id'].values[0])\n",
    "stats = {\n",
    "    \"Gols\": events[events['type'] == 'Shot']['shot_outcome'].value_counts().get('Goal', 0),\n",
    "    \"Chutes\": len(events[events['type'] == 'Shot']),\n",
    "    \"Passes Completos\": len(events[(events['type'] == 'Pass') & (events['pass_outcome'].isna())]),\n",
    "    \"Total de Passes\": len(events[events['type'] == 'Pass']),\n",
    "    \"Desarmes\": len(events[events['type'] == 'Duel']),\n",
    "}\n",
    "st.write(pd.DataFrame.from_dict(stats, orient='index', columns=[\"Quantidade\"]))\n"
   ]
  },
  {
   "cell_type": "code",
   "execution_count": 22,
   "metadata": {},
   "outputs": [
    {
     "name": "stderr",
     "output_type": "stream",
     "text": [
      "/home/neto/Documentos/Ciencia de dados/4_SEMESTRE/Desenvolvimento_Front_End_Com_Python/Alcebiades_Neto_DR1_AT/.venv/lib/python3.10/site-packages/statsbombpy/api_client.py:21: NoAuthWarning: credentials were not supplied. open data access only\n",
      "  warnings.warn(\n"
     ]
    }
   ],
   "source": [
    "events = sb.events(match_id=match_data['match_id'].values[0])"
   ]
  },
  {
   "cell_type": "code",
   "execution_count": 24,
   "metadata": {},
   "outputs": [
    {
     "data": {
      "text/plain": [
       "Index(['50_50', 'bad_behaviour_card', 'ball_receipt_outcome',\n",
       "       'ball_recovery_recovery_failure', 'block_deflection',\n",
       "       'block_save_block', 'carry_end_location', 'clearance_aerial_won',\n",
       "       'clearance_body_part', 'clearance_head', 'clearance_left_foot',\n",
       "       'clearance_right_foot', 'counterpress', 'dribble_nutmeg',\n",
       "       'dribble_outcome', 'duel_outcome', 'duel_type', 'duration',\n",
       "       'foul_committed_advantage', 'foul_committed_card',\n",
       "       'foul_committed_penalty', 'foul_won_advantage', 'foul_won_defensive',\n",
       "       'foul_won_penalty', 'goalkeeper_body_part', 'goalkeeper_end_location',\n",
       "       'goalkeeper_outcome', 'goalkeeper_position', 'goalkeeper_technique',\n",
       "       'goalkeeper_type', 'id', 'index', 'injury_stoppage_in_chain',\n",
       "       'interception_outcome', 'location', 'match_id', 'minute', 'off_camera',\n",
       "       'out', 'pass_aerial_won', 'pass_angle', 'pass_assisted_shot_id',\n",
       "       'pass_body_part', 'pass_cross', 'pass_cut_back', 'pass_deflected',\n",
       "       'pass_end_location', 'pass_goal_assist', 'pass_height',\n",
       "       'pass_inswinging', 'pass_length', 'pass_outcome', 'pass_outswinging',\n",
       "       'pass_recipient', 'pass_recipient_id', 'pass_shot_assist',\n",
       "       'pass_switch', 'pass_technique', 'pass_through_ball', 'pass_type',\n",
       "       'period', 'play_pattern', 'player', 'player_id', 'position',\n",
       "       'possession', 'possession_team', 'possession_team_id', 'related_events',\n",
       "       'second', 'shot_aerial_won', 'shot_body_part', 'shot_end_location',\n",
       "       'shot_first_time', 'shot_freeze_frame', 'shot_key_pass_id',\n",
       "       'shot_one_on_one', 'shot_outcome', 'shot_statsbomb_xg',\n",
       "       'shot_technique', 'shot_type', 'substitution_outcome',\n",
       "       'substitution_outcome_id', 'substitution_replacement',\n",
       "       'substitution_replacement_id', 'tactics', 'team', 'team_id',\n",
       "       'timestamp', 'type', 'under_pressure'],\n",
       "      dtype='object')"
      ]
     },
     "execution_count": 24,
     "metadata": {},
     "output_type": "execute_result"
    }
   ],
   "source": [
    "events.columns"
   ]
  }
 ],
 "metadata": {
  "kernelspec": {
   "display_name": "DR2_AT",
   "language": "python",
   "name": "python3"
  },
  "language_info": {
   "codemirror_mode": {
    "name": "ipython",
    "version": 3
   },
   "file_extension": ".py",
   "mimetype": "text/x-python",
   "name": "python",
   "nbconvert_exporter": "python",
   "pygments_lexer": "ipython3",
   "version": "3.10.14"
  }
 },
 "nbformat": 4,
 "nbformat_minor": 2
}
